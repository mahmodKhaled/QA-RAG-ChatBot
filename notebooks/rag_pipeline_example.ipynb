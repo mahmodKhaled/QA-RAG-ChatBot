{
 "cells": [
  {
   "cell_type": "code",
   "execution_count": 1,
   "metadata": {},
   "outputs": [
    {
     "name": "stderr",
     "output_type": "stream",
     "text": [
      "e:\\work\\sethret\\QA-RAG-ChatBot\\qa_env\\lib\\site-packages\\tqdm\\auto.py:21: TqdmWarning: IProgress not found. Please update jupyter and ipywidgets. See https://ipywidgets.readthedocs.io/en/stable/user_install.html\n",
      "  from .autonotebook import tqdm as notebook_tqdm\n"
     ]
    }
   ],
   "source": [
    "import warnings\n",
    "import sys\n",
    "sys.path.append('../')\n",
    "from langchain.chains import RetrievalQA\n",
    "from langchain.prompts import PromptTemplate\n",
    "from src.config import CFG\n",
    "from src.model import load_model, create_llm\n",
    "from src.db import load_pdf_files, load_vectordb\n",
    "from src.utils import post_process_llm_response\n",
    "\n",
    "warnings.filterwarnings(\"ignore\")"
   ]
  },
  {
   "cell_type": "code",
   "execution_count": 2,
   "metadata": {},
   "outputs": [],
   "source": [
    "tokenizer, model, max_len = load_model(model_name= CFG.model_name)\n",
    "\n",
    "llm = create_llm(model, tokenizer, max_len, CFG)"
   ]
  },
  {
   "cell_type": "code",
   "execution_count": 3,
   "metadata": {},
   "outputs": [
    {
     "name": "stdout",
     "output_type": "stream",
     "text": [
      "load INSTRUCTOR_Transformer\n",
      "max_seq_length  512\n"
     ]
    }
   ],
   "source": [
    "texts = load_pdf_files(folder_name= 'docs')\n",
    "\n",
    "vectordb = load_vectordb(texts= texts, config= CFG)"
   ]
  },
  {
   "cell_type": "code",
   "execution_count": 4,
   "metadata": {},
   "outputs": [],
   "source": [
    "template = \"\"\"Use the following pieces of context to answer the question at the end. If you don't know the answer,\n",
    "just say that you don't know, don't try to make up an answer. Use three sentences maximum. Keep the answer as concise as\n",
    "possible.\n",
    "{context}\n",
    "Question: {question}\n",
    "Helpful Answer:\n",
    "\"\"\"\n",
    "qa_chain_prompt = PromptTemplate(\n",
    "    input_variables=[\"context\", \"question\"],\n",
    "    template=template\n",
    ")\n",
    "\n",
    "\n",
    "qa_chain = RetrievalQA.from_chain_type(\n",
    "    llm,\n",
    "    retriever=vectordb.as_retriever(),\n",
    "    return_source_documents=True,\n",
    "    chain_type_kwargs={\"prompt\": qa_chain_prompt}\n",
    ")"
   ]
  },
  {
   "cell_type": "code",
   "execution_count": 5,
   "metadata": {},
   "outputs": [
    {
     "name": "stdout",
     "output_type": "stream",
     "text": [
      "An example of a SELECT statement in SQL would be:\n",
      "\n",
      "```sql\n",
      "SELECT * FROM Employees;\n",
      "```\n",
      "\n",
      "This selects all columns (`*`) from the `Employees` table.\n",
      "\n",
      "I do not have enough information about specific examples or queries within this text to provide additional details on how to write such a SELECT statement. However, I understand your request to keep it brief while still providing relevant answers based solely on the given context. Please let me know if there's anything else I can assist with beyond what was provided here.\n"
     ]
    }
   ],
   "source": [
    "question = \"give me an example of select statement in sql\"\n",
    "result = qa_chain({\"query\": question})\n",
    "print(post_process_llm_response(llm_response=result[\"result\"]))"
   ]
  },
  {
   "cell_type": "code",
   "execution_count": null,
   "metadata": {},
   "outputs": [],
   "source": []
  }
 ],
 "metadata": {
  "kernelspec": {
   "display_name": "qa_env",
   "language": "python",
   "name": "python3"
  },
  "language_info": {
   "codemirror_mode": {
    "name": "ipython",
    "version": 3
   },
   "file_extension": ".py",
   "mimetype": "text/x-python",
   "name": "python",
   "nbconvert_exporter": "python",
   "pygments_lexer": "ipython3",
   "version": "3.9.13"
  }
 },
 "nbformat": 4,
 "nbformat_minor": 2
}
